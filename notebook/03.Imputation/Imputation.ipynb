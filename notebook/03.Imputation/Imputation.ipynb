{
 "cells": [
  {
   "cell_type": "code",
   "execution_count": 2,
   "metadata": {},
   "outputs": [],
   "source": [
    "import pandas as pd\n",
    "import numpy as np"
   ]
  },
  {
   "cell_type": "code",
   "execution_count": 5,
   "metadata": {},
   "outputs": [
    {
     "name": "stdout",
     "output_type": "stream",
     "text": [
      "pandas version info: 1.0.5\n",
      "numpy version info: 1.18.5\n"
     ]
    }
   ],
   "source": [
    "print(f\"pandas version info: {pd.__version__}\")\n",
    "print(f\"numpy version info: {np.__version__}\")\n",
    "\n"
   ]
  },
  {
   "cell_type": "markdown",
   "metadata": {},
   "source": [
    "# Imputation"
   ]
  },
  {
   "cell_type": "markdown",
   "metadata": {},
   "source": [
    "### 1. 열 별로 결측치가 포함된 레코드의 수 세기 (Determining the number of NA values in columns)"
   ]
  },
  {
   "cell_type": "code",
   "execution_count": 13,
   "metadata": {},
   "outputs": [
    {
     "data": {
      "text/plain": [
       "Name      0\n",
       "Bamboo    3\n",
       "Water     1\n",
       "dtype: int64"
      ]
     },
     "execution_count": 13,
     "metadata": {},
     "output_type": "execute_result"
    }
   ],
   "source": [
    "panda_members = {'Name' : ['Ace', 'Baam', 'Choco', \"Dill\", \"Eren\", \"Foo\"],\n",
    "                'Bamboo': [20, np.nan, 7, np.nan, np.nan, 20],\n",
    "                'Water': [30, 40, 10, np.nan, 11, 20,]}\n",
    "\n",
    "\n",
    "DF = pd.DataFrame.from_dict(panda_members)\n",
    "\n",
    "DF.isna().sum()"
   ]
  }
 ],
 "metadata": {
  "kernelspec": {
   "display_name": "Python 3",
   "language": "python",
   "name": "python3"
  },
  "language_info": {
   "codemirror_mode": {
    "name": "ipython",
    "version": 3
   },
   "file_extension": ".py",
   "mimetype": "text/x-python",
   "name": "python",
   "nbconvert_exporter": "python",
   "pygments_lexer": "ipython3",
   "version": "3.8.3"
  }
 },
 "nbformat": 4,
 "nbformat_minor": 4
}
