{
 "cells": [
  {
   "cell_type": "code",
   "execution_count": 2,
   "metadata": {},
   "outputs": [],
   "source": [
    "import pandas as pd\n",
    "import numpy as np"
   ]
  },
  {
   "cell_type": "code",
   "execution_count": 5,
   "metadata": {},
   "outputs": [
    {
     "name": "stdout",
     "output_type": "stream",
     "text": [
      "pandas version info: 1.0.5\n",
      "numpy version info: 1.18.5\n"
     ]
    }
   ],
   "source": [
    "print(f\"pandas version info: {pd.__version__}\")\n",
    "print(f\"numpy version info: {np.__version__}\")\n",
    "\n"
   ]
  },
  {
   "cell_type": "markdown",
   "metadata": {},
   "source": [
    "# Apply"
   ]
  },
  {
   "cell_type": "markdown",
   "metadata": {},
   "source": [
    "### 1. 사용자 지정 함수 적용하기 (apply lambda function to Pandas Series)"
   ]
  },
  {
   "cell_type": "code",
   "execution_count": 26,
   "metadata": {},
   "outputs": [
    {
     "data": {
      "text/plain": [
       "0     65\n",
       "1     80\n",
       "2     95\n",
       "3    120\n",
       "4    140\n",
       "5    170\n",
       "Name: Cum_Water, dtype: int64"
      ]
     },
     "execution_count": 26,
     "metadata": {},
     "output_type": "execute_result"
    }
   ],
   "source": [
    "# daily bamboo and water consumption in pandas zoo\n",
    "\n",
    "panda_consumption = {'Day' : [1, 2, 3, 4, 5, 6],\n",
    "                'Cum_Bamboo': [20, 30, 60, 100, 120, 150],\n",
    "                'Cum_Water': [15, 30, 45, 70, 90, 120],\n",
    "                }\n",
    "\n",
    "# make dataframe\n",
    "DF = pd.DataFrame.from_dict(panda_consumption)\n",
    "\n",
    "# add 50 to every consumption of Water\n",
    "DF.Cum_Water.apply(lambda x: x+50)"
   ]
  },
  {
   "cell_type": "markdown",
   "metadata": {},
   "source": [
    "### 2. 문자열 행에서 마지막 n개 단어 취하기 (getting last n characters from a string column)"
   ]
  },
  {
   "cell_type": "code",
   "execution_count": 3,
   "metadata": {},
   "outputs": [],
   "source": [
    "panda_members = {'Hobby' : ['Rolling', 'Sleeping', 'Playing Dead', \"Playing Dead\", \"Sleeping\", \"Rolling\", \"Eating\",\"Playing Dead\"],\n",
    "                 'Age': [20, 20, 11, 12, 12, 11, 11, 12],\n",
    "                'Name': [\"Ace\",\"Ace\",\"Choco\",\"Baam\",\"Baam\",\"Choco\",\"Choco\",\"Baam\"]}\n",
    "\n",
    "DF = pd.DataFrame.from_dict(panda_members)"
   ]
  },
  {
   "cell_type": "code",
   "execution_count": 8,
   "metadata": {},
   "outputs": [
    {
     "data": {
      "text/plain": [
       "0    ing\n",
       "1    ing\n",
       "2    ead\n",
       "3    ead\n",
       "4    ing\n",
       "5    ing\n",
       "6    ing\n",
       "7    ead\n",
       "Name: Hobby, dtype: object"
      ]
     },
     "execution_count": 8,
     "metadata": {},
     "output_type": "execute_result"
    }
   ],
   "source": [
    "# get last 3 chars from Hobby column\n",
    "DF.Hobby.str[-3:]\n",
    "DF.Hobby.apply(lambda x: x[-3:]) # these codes return same output"
   ]
  },
  {
   "cell_type": "markdown",
   "metadata": {},
   "source": [
    "### 3. 열에 if else 조건문 적용하기 (applying if else statement to a column)"
   ]
  },
  {
   "cell_type": "code",
   "execution_count": 27,
   "metadata": {},
   "outputs": [],
   "source": [
    "panda_members = {'Name' : ['Ace','Ace', 'Baam','Ace', 'Choco','Baam','Choco', 'Ace'],\n",
    "                'Bamboo': [20, 20, 10, 15, 100,10 , 100, 15],\n",
    "                 'Hobby' : ['Rolling', 'Rolling', 'Playing Dead', \"Playing Dead\", \"Sleeping\",'Playing Dead', \"Rolling\",'Sleeping']}\n",
    "\n",
    "DF = pd.DataFrame.from_dict(panda_members)"
   ]
  },
  {
   "cell_type": "code",
   "execution_count": 30,
   "metadata": {},
   "outputs": [
    {
     "data": {
      "text/plain": [
       "0     20\n",
       "1     20\n",
       "2      0\n",
       "3     15\n",
       "4    100\n",
       "5      0\n",
       "6    100\n",
       "7     15\n",
       "Name: Bamboo, dtype: int64"
      ]
     },
     "execution_count": 30,
     "metadata": {},
     "output_type": "execute_result"
    }
   ],
   "source": [
    "DF.Bamboo.where(lambda x: x>10, other=0)"
   ]
  },
  {
   "cell_type": "markdown",
   "metadata": {},
   "source": [
    "### 4. apply에 여러개 인자 넣어주기 (multiple argument for apply statement in DF)"
   ]
  },
  {
   "cell_type": "code",
   "execution_count": 9,
   "metadata": {},
   "outputs": [],
   "source": [
    "panda_members = {'Name' : ['Ace','Ace', 'Baam','Ace', 'Choco','Baam','Choco', 'Ace'],\n",
    "                'Bamboo': [20, 20, 10, 15, 100,10 , 100, 15],\n",
    "                 'Hobby' : ['Rolling', 'Rolling', 'Playing Dead', \"Playing Dead\", \"Sleeping\",'Playing Dead', \"Rolling\",'Sleeping']}\n",
    "\n",
    "DF = pd.DataFrame.from_dict(panda_members)"
   ]
  },
  {
   "cell_type": "code",
   "execution_count": 13,
   "metadata": {},
   "outputs": [],
   "source": [
    "def check_if_between(x,from_,to_):\n",
    "    if x > from_ and x < to_:\n",
    "        return \"YES!\"\n",
    "    else:\n",
    "        return \"NO!!\""
   ]
  },
  {
   "cell_type": "code",
   "execution_count": 15,
   "metadata": {},
   "outputs": [
    {
     "data": {
      "text/plain": [
       "0    NO!!\n",
       "1    NO!!\n",
       "2    YES!\n",
       "3    YES!\n",
       "4    NO!!\n",
       "5    YES!\n",
       "6    NO!!\n",
       "7    YES!\n",
       "Name: Bamboo, dtype: object"
      ]
     },
     "execution_count": 15,
     "metadata": {},
     "output_type": "execute_result"
    }
   ],
   "source": [
    "# YES means that panda's Bamboo consumption amount is between 5 and 20\n",
    "DF.Bamboo.apply(check_if_between, args=(5, 20))"
   ]
  },
  {
   "cell_type": "code",
   "execution_count": null,
   "metadata": {},
   "outputs": [],
   "source": []
  }
 ],
 "metadata": {
  "kernelspec": {
   "display_name": "Python 3",
   "language": "python",
   "name": "python3"
  },
  "language_info": {
   "codemirror_mode": {
    "name": "ipython",
    "version": 3
   },
   "file_extension": ".py",
   "mimetype": "text/x-python",
   "name": "python",
   "nbconvert_exporter": "python",
   "pygments_lexer": "ipython3",
   "version": "3.8.3"
  }
 },
 "nbformat": 4,
 "nbformat_minor": 4
}
