{
 "cells": [
  {
   "cell_type": "code",
   "execution_count": 3,
   "metadata": {},
   "outputs": [],
   "source": [
    "import pandas as pd\n",
    "import numpy as np"
   ]
  },
  {
   "cell_type": "code",
   "execution_count": 4,
   "metadata": {},
   "outputs": [
    {
     "name": "stdout",
     "output_type": "stream",
     "text": [
      "pandas version info: 1.0.5\n",
      "numpy version info: 1.18.5\n"
     ]
    }
   ],
   "source": [
    "print(f\"pandas version info: {pd.__version__}\")\n",
    "print(f\"numpy version info: {np.__version__}\")\n",
    "\n"
   ]
  },
  {
   "cell_type": "markdown",
   "metadata": {},
   "source": [
    "# Filter"
   ]
  },
  {
   "cell_type": "markdown",
   "metadata": {},
   "source": [
    "### 1. 특정 단어를 포함한 row만 골라내기 (get rows that contain specific text/word/string)"
   ]
  },
  {
   "cell_type": "code",
   "execution_count": 6,
   "metadata": {},
   "outputs": [
    {
     "data": {
      "text/html": [
       "<div>\n",
       "<style scoped>\n",
       "    .dataframe tbody tr th:only-of-type {\n",
       "        vertical-align: middle;\n",
       "    }\n",
       "\n",
       "    .dataframe tbody tr th {\n",
       "        vertical-align: top;\n",
       "    }\n",
       "\n",
       "    .dataframe thead th {\n",
       "        text-align: right;\n",
       "    }\n",
       "</style>\n",
       "<table border=\"1\" class=\"dataframe\">\n",
       "  <thead>\n",
       "    <tr style=\"text-align: right;\">\n",
       "      <th></th>\n",
       "      <th>Name</th>\n",
       "      <th>Bamboo</th>\n",
       "      <th>Water</th>\n",
       "      <th>Emotion</th>\n",
       "    </tr>\n",
       "  </thead>\n",
       "  <tbody>\n",
       "    <tr>\n",
       "      <th>0</th>\n",
       "      <td>Ace</td>\n",
       "      <td>20.0</td>\n",
       "      <td>30.0</td>\n",
       "      <td>Happy</td>\n",
       "    </tr>\n",
       "    <tr>\n",
       "      <th>1</th>\n",
       "      <td>Baam</td>\n",
       "      <td>NaN</td>\n",
       "      <td>40.0</td>\n",
       "      <td>Very Happy</td>\n",
       "    </tr>\n",
       "    <tr>\n",
       "      <th>3</th>\n",
       "      <td>Dill</td>\n",
       "      <td>NaN</td>\n",
       "      <td>NaN</td>\n",
       "      <td>Happy after lunch</td>\n",
       "    </tr>\n",
       "    <tr>\n",
       "      <th>5</th>\n",
       "      <td>Foo</td>\n",
       "      <td>20.0</td>\n",
       "      <td>20.0</td>\n",
       "      <td>Very Happy</td>\n",
       "    </tr>\n",
       "  </tbody>\n",
       "</table>\n",
       "</div>"
      ],
      "text/plain": [
       "   Name  Bamboo  Water            Emotion\n",
       "0   Ace    20.0   30.0              Happy\n",
       "1  Baam     NaN   40.0         Very Happy\n",
       "3  Dill     NaN    NaN  Happy after lunch\n",
       "5   Foo    20.0   20.0         Very Happy"
      ]
     },
     "execution_count": 6,
     "metadata": {},
     "output_type": "execute_result"
    }
   ],
   "source": [
    "panda_members = {'Name' : ['Ace', 'Baam', 'Choco', \"Dill\", \"Eren\", \"Foo\"],\n",
    "                'Bamboo': [20, np.nan, 7, np.nan, np.nan, 20],\n",
    "                'Water': [30, 40, 10, np.nan, 11, 20,],\n",
    "                'Emotion': [\"Happy\",\"Very Happy\",\"Sad\",\"Happy after lunch\",\"So so\",\"Very Happy\"]}\n",
    "\n",
    "\n",
    "DF = pd.DataFrame.from_dict(panda_members)\n",
    "\n",
    "\n",
    "DF[DF.Emotion.str.contains(\"Happy\")]"
   ]
  },
  {
   "cell_type": "markdown",
   "metadata": {},
   "source": [
    "### 2. 데이터프레임 열(시리즈) 내에서 리스트 내의 특정 값이 있는 행 골라내기 (Using a list of values to select rows from Data Frame)"
   ]
  },
  {
   "cell_type": "code",
   "execution_count": 11,
   "metadata": {},
   "outputs": [
    {
     "data": {
      "text/html": [
       "<div>\n",
       "<style scoped>\n",
       "    .dataframe tbody tr th:only-of-type {\n",
       "        vertical-align: middle;\n",
       "    }\n",
       "\n",
       "    .dataframe tbody tr th {\n",
       "        vertical-align: top;\n",
       "    }\n",
       "\n",
       "    .dataframe thead th {\n",
       "        text-align: right;\n",
       "    }\n",
       "</style>\n",
       "<table border=\"1\" class=\"dataframe\">\n",
       "  <thead>\n",
       "    <tr style=\"text-align: right;\">\n",
       "      <th></th>\n",
       "      <th>Name</th>\n",
       "      <th>Bamboo</th>\n",
       "      <th>Water</th>\n",
       "      <th>Hobby</th>\n",
       "    </tr>\n",
       "  </thead>\n",
       "  <tbody>\n",
       "    <tr>\n",
       "      <th>0</th>\n",
       "      <td>Ace</td>\n",
       "      <td>20.0</td>\n",
       "      <td>30.0</td>\n",
       "      <td>Rolling</td>\n",
       "    </tr>\n",
       "    <tr>\n",
       "      <th>1</th>\n",
       "      <td>Baam</td>\n",
       "      <td>NaN</td>\n",
       "      <td>40.0</td>\n",
       "      <td>Sleeping</td>\n",
       "    </tr>\n",
       "    <tr>\n",
       "      <th>4</th>\n",
       "      <td>Eren</td>\n",
       "      <td>NaN</td>\n",
       "      <td>11.0</td>\n",
       "      <td>Sleeping</td>\n",
       "    </tr>\n",
       "    <tr>\n",
       "      <th>5</th>\n",
       "      <td>Foo</td>\n",
       "      <td>20.0</td>\n",
       "      <td>20.0</td>\n",
       "      <td>Rolling</td>\n",
       "    </tr>\n",
       "  </tbody>\n",
       "</table>\n",
       "</div>"
      ],
      "text/plain": [
       "   Name  Bamboo  Water     Hobby\n",
       "0   Ace    20.0   30.0   Rolling\n",
       "1  Baam     NaN   40.0  Sleeping\n",
       "4  Eren     NaN   11.0  Sleeping\n",
       "5   Foo    20.0   20.0   Rolling"
      ]
     },
     "execution_count": 11,
     "metadata": {},
     "output_type": "execute_result"
    }
   ],
   "source": [
    "panda_members = {'Name' : ['Ace', 'Baam', 'Choco', \"Dill\", \"Eren\", \"Foo\"],\n",
    "                'Bamboo': [20, np.nan, 7, np.nan, np.nan, 20],\n",
    "                'Water': [30, 40, 10, np.nan, 11, 20,],\n",
    "                 'Hobby' : ['Rolling', 'Sleeping', 'Playing Dead', \"Playing Dead\", \"Sleeping\", \"Rolling\"]}\n",
    "\n",
    "DF = pd.DataFrame.from_dict(panda_members)\n",
    "\n",
    "# I want to see pandas with only these two hobbies\n",
    "list_to_check=['Rolling','Sleeping']\n",
    "\n",
    "DF[DF.Hobby.isin(list_to_check)]"
   ]
  },
  {
   "cell_type": "markdown",
   "metadata": {},
   "source": [
    "### 3. **중복되는 행 제거하기, 열(복수 가능) 기준 혹은 전체 행 기준 (Droping duplicated/repeated/redundant rows, in respect to column(s) or full row)**"
   ]
  },
  {
   "cell_type": "code",
   "execution_count": 19,
   "metadata": {},
   "outputs": [],
   "source": [
    "panda_members = {'Name' : ['Ace','Ace', 'Baam','Ace', 'Choco','Baam','Choco', 'Ace'],\n",
    "                'Bamboo': [20, 20, 10, 15, 100,10 , 100, 15],\n",
    "                 'Hobby' : ['Rolling', 'Rolling', 'Playing Dead', \"Playing Dead\", \"Sleeping\",'Playing Dead', \"Rolling\",'Sleeping']}\n",
    "\n",
    "DF = pd.DataFrame.from_dict(panda_members)\n",
    "\n",
    "DF\n",
    "\n",
    "# drop duplicates\n",
    "DF.drop_duplicates()\n",
    "\n",
    "# drop duplicates with subset, if \"Name\" and \"Bamboo\" values are same, these rows are regarded duplicates.\n",
    "DF.drop_duplicates(subset=[\"Name\",\"Bamboo\"])"
   ]
  },
  {
   "cell_type": "code",
   "execution_count": null,
   "metadata": {},
   "outputs": [],
   "source": []
  },
  {
   "cell_type": "code",
   "execution_count": null,
   "metadata": {},
   "outputs": [],
   "source": []
  }
 ],
 "metadata": {
  "kernelspec": {
   "display_name": "Python 3",
   "language": "python",
   "name": "python3"
  },
  "language_info": {
   "codemirror_mode": {
    "name": "ipython",
    "version": 3
   },
   "file_extension": ".py",
   "mimetype": "text/x-python",
   "name": "python",
   "nbconvert_exporter": "python",
   "pygments_lexer": "ipython3",
   "version": "3.8.3"
  }
 },
 "nbformat": 4,
 "nbformat_minor": 4
}
